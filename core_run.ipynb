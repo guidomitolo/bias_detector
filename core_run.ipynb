{
 "cells": [
  {
   "cell_type": "code",
   "execution_count": 20,
   "metadata": {},
   "outputs": [],
   "source": [
    "import pickle\n",
    "import joblib"
   ]
  },
  {
   "cell_type": "raw",
   "metadata": {},
   "source": [
    "import re\n",
    "def removal(text):\n",
    "    text = re.sub(r'(\\d|\\$|\\%|\\+)', '', text.lower())\n",
    "    return re.sub(r'\\d+', '', text)"
   ]
  },
  {
   "cell_type": "raw",
   "metadata": {},
   "source": [
    "with open('core/vectorizer.pkl', 'rb') as f:\n",
    "\tvectorizer = pickle.load(f)\n",
    "\n",
    "with open('core/classifier.pkl', 'rb') as f:\n",
    "\tclassifier = pickle.load(f)"
   ]
  },
  {
   "cell_type": "code",
   "execution_count": 21,
   "metadata": {},
   "outputs": [],
   "source": [
    "with open('core/vectorizer.joblib', 'rb') as f:\n",
    "\tvectorizer = joblib.load(f)\n",
    "\n",
    "with open('core/classifier.joblib', 'rb') as f:\n",
    "\tclassifier = joblib.load(f)"
   ]
  },
  {
   "cell_type": "code",
   "execution_count": 22,
   "metadata": {},
   "outputs": [],
   "source": [
    "df = pickle.load(open('data/df_clean_izq.pkl','rb'))"
   ]
  },
  {
   "cell_type": "code",
   "execution_count": 23,
   "metadata": {},
   "outputs": [],
   "source": [
    "any_text = df.iloc[10].body"
   ]
  },
  {
   "cell_type": "code",
   "execution_count": 24,
   "metadata": {},
   "outputs": [],
   "source": [
    "any_text_vectorized = vectorizer.transform([any_text])"
   ]
  },
  {
   "cell_type": "code",
   "execution_count": 25,
   "metadata": {},
   "outputs": [
    {
     "data": {
      "text/plain": [
       "<1x6549 sparse matrix of type '<class 'numpy.int64'>'\n",
       "\twith 274 stored elements in Compressed Sparse Row format>"
      ]
     },
     "execution_count": 25,
     "metadata": {},
     "output_type": "execute_result"
    }
   ],
   "source": [
    "any_text_vectorized"
   ]
  },
  {
   "cell_type": "markdown",
   "metadata": {},
   "source": [
    "Classifier"
   ]
  },
  {
   "cell_type": "code",
   "execution_count": 26,
   "metadata": {},
   "outputs": [
    {
     "data": {
      "text/plain": [
       "array(['left'], dtype='<U5')"
      ]
     },
     "execution_count": 26,
     "metadata": {},
     "output_type": "execute_result"
    }
   ],
   "source": [
    "classifier.predict(any_text_vectorized)"
   ]
  },
  {
   "cell_type": "markdown",
   "metadata": {},
   "source": [
    "External"
   ]
  },
  {
   "cell_type": "code",
   "execution_count": 27,
   "metadata": {},
   "outputs": [],
   "source": [
    "clarin = \"El primer dato que hay que destacar es que en términos reales, el precio de la carne no aumentó durante el último mes. Aunque desde abril de 2020 los precios promedio crecieron un 65,3 por ciento, la variación en el último mes fue de solo el 3,4 por ciento, por debajo del índice de inflación. Con el objetivo de contener los precios de un producto central para la paz social, el Gobierno viene echando mano a todo tipo de herramientas oficiales y extraoficiales. Entre las segundas se cuentan las declaraciones azarosas de funcionarios que amenazan con cerrar exportaciones y la sanción a algunos actores de la comercialización como la cadena Coto, a la que le impidieron operar en el Mercado de Liniers. Entre las oficiales, la implementación de un nuevo registro de exportadores y el acuerdo de cortes a precios populares son las principales cartas.\""
   ]
  },
  {
   "cell_type": "code",
   "execution_count": 28,
   "metadata": {},
   "outputs": [],
   "source": [
    "clarin_vectorized = vectorizer.transform([clarin])"
   ]
  },
  {
   "cell_type": "code",
   "execution_count": 29,
   "metadata": {},
   "outputs": [
    {
     "data": {
      "text/plain": [
       "array(['right'], dtype='<U5')"
      ]
     },
     "execution_count": 29,
     "metadata": {},
     "output_type": "execute_result"
    }
   ],
   "source": [
    "classifier.predict(clarin_vectorized)"
   ]
  },
  {
   "cell_type": "code",
   "execution_count": 30,
   "metadata": {},
   "outputs": [],
   "source": [
    "izq_diario =\"El Instituto Estadístico de los Trabajadores (IET) es un organismo dependiente de la Universidad Metropolitana para la Educación y el Trabajo (UMET). El Instituto está compuesto por CITRA y por más de 50 organizaciones sociales de la CGT y la CTA de los trabajadores. Este martes presentó un informe correspondiente al mes de abril, correspondiente a los trabajadores registrados. Según el mismo, es el comienzo de año con la inflación más alta desde el 2016, superando al 2019 (16,2%). Esto se desprende del número registrado para abril: 4,1 %. A la espera de los datos del INDEC, la mayoría de las consultoras viene dando que lejos de desacelerarse la inflación aumenta. E incluso se esperan nuevos aumentos para el mes de mayo, donde están previstos por ejemplo aumentos de tarifas. Esto afecta el bolsillo popular diariamente, pero además pone en cuestión muchas de las paritarias que se han firmado en estos meses, alineadas con una pauta anual del 30 % aproximado, como pedía el Ministerio de Economía.\""
   ]
  },
  {
   "cell_type": "code",
   "execution_count": 31,
   "metadata": {},
   "outputs": [],
   "source": [
    "izq_diario_vectorized = vectorizer.transform([izq_diario])"
   ]
  },
  {
   "cell_type": "code",
   "execution_count": 32,
   "metadata": {},
   "outputs": [
    {
     "data": {
      "text/plain": [
       "array(['left'], dtype='<U5')"
      ]
     },
     "execution_count": 32,
     "metadata": {},
     "output_type": "execute_result"
    }
   ],
   "source": [
    "classifier.predict(izq_diario_vectorized)"
   ]
  },
  {
   "cell_type": "markdown",
   "metadata": {},
   "source": [
    "Get Words for WC"
   ]
  },
  {
   "cell_type": "code",
   "execution_count": 33,
   "metadata": {},
   "outputs": [],
   "source": [
    "import pandas as pd"
   ]
  },
  {
   "cell_type": "code",
   "execution_count": 34,
   "metadata": {},
   "outputs": [
    {
     "data": {
      "text/plain": [
       "matrix([[0, 0, 0, ..., 0, 0, 0]])"
      ]
     },
     "execution_count": 34,
     "metadata": {},
     "output_type": "execute_result"
    }
   ],
   "source": [
    "clarin_vectorized.todense()"
   ]
  },
  {
   "cell_type": "code",
   "execution_count": 35,
   "metadata": {},
   "outputs": [
    {
     "data": {
      "text/plain": [
       "abajo        0\n",
       "odisea       0\n",
       "ocurrió      0\n",
       "ocurriría    0\n",
       "ocurrirá     0\n",
       "            ..\n",
       "cerrar       1\n",
       "ciento       2\n",
       "oficiales    2\n",
       "último       2\n",
       "precios      3\n",
       "Length: 6549, dtype: int64"
      ]
     },
     "execution_count": 35,
     "metadata": {},
     "output_type": "execute_result"
    }
   ],
   "source": [
    "pd.DataFrame(data=clarin_vectorized.todense(), columns=vectorizer.get_feature_names()).sum().sort_values()"
   ]
  },
  {
   "cell_type": "code",
   "execution_count": 36,
   "metadata": {},
   "outputs": [],
   "source": [
    "result = {}\n",
    "for key, value in zip(vectorizer.get_feature_names(), clarin_vectorized.todense().tolist()[0]):\n",
    "    if value == 0:\n",
    "        pass\n",
    "    else:\n",
    "        result[key] = value"
   ]
  },
  {
   "cell_type": "code",
   "execution_count": 37,
   "metadata": {},
   "outputs": [
    {
     "data": {
      "text/plain": [
       "{'abril': 1,\n",
       " 'acuerdo': 1,\n",
       " 'amenazan': 1,\n",
       " 'aumentó': 1,\n",
       " 'aunque': 1,\n",
       " 'cadena': 1,\n",
       " 'carne': 1,\n",
       " 'central': 1,\n",
       " 'cerrar': 1,\n",
       " 'ciento': 2,\n",
       " 'comercialización': 1,\n",
       " 'contener': 1,\n",
       " 'cortes': 1,\n",
       " 'coto': 1,\n",
       " 'crecieron': 1,\n",
       " 'dato': 1,\n",
       " 'debajo': 1,\n",
       " 'declaraciones': 1,\n",
       " 'destacar': 1,\n",
       " 'exportaciones': 1,\n",
       " 'exportadores': 1,\n",
       " 'gobierno': 1,\n",
       " 'herramientas': 1,\n",
       " 'impidieron': 1,\n",
       " 'implementación': 1,\n",
       " 'inflación': 1,\n",
       " 'mano': 1,\n",
       " 'mercado': 1,\n",
       " 'nuevo': 1,\n",
       " 'objetivo': 1,\n",
       " 'oficiales': 2,\n",
       " 'operar': 1,\n",
       " 'paz': 1,\n",
       " 'populares': 1,\n",
       " 'precio': 1,\n",
       " 'precios': 3,\n",
       " 'primer': 1,\n",
       " 'principales': 1,\n",
       " 'producto': 1,\n",
       " 'promedio': 1,\n",
       " 'reales': 1,\n",
       " 'registro': 1,\n",
       " 'sanción': 1,\n",
       " 'social': 1,\n",
       " 'solo': 1,\n",
       " 'tipo': 1,\n",
       " 'términos': 1,\n",
       " 'variación': 1,\n",
       " 'viene': 1,\n",
       " 'índice': 1,\n",
       " 'último': 2}"
      ]
     },
     "execution_count": 37,
     "metadata": {},
     "output_type": "execute_result"
    }
   ],
   "source": [
    "result"
   ]
  }
 ],
 "metadata": {
  "kernelspec": {
   "display_name": "Python 3",
   "language": "python",
   "name": "python3"
  },
  "language_info": {
   "codemirror_mode": {
    "name": "ipython",
    "version": 3
   },
   "file_extension": ".py",
   "mimetype": "text/x-python",
   "name": "python",
   "nbconvert_exporter": "python",
   "pygments_lexer": "ipython3",
   "version": "3.7.7"
  }
 },
 "nbformat": 4,
 "nbformat_minor": 4
}
